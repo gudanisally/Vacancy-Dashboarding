{
 "cells": [
  {
   "cell_type": "code",
   "execution_count": 1,
   "id": "3ccde7a2",
   "metadata": {},
   "outputs": [],
   "source": [
    "import pymysql"
   ]
  },
  {
   "cell_type": "code",
   "execution_count": 2,
   "id": "009009e0",
   "metadata": {},
   "outputs": [],
   "source": [
    "import pandas as pd"
   ]
  },
  {
   "cell_type": "code",
   "execution_count": 3,
   "id": "11c4aaf9",
   "metadata": {},
   "outputs": [],
   "source": [
    "conn=pymysql.connect(host='localhost',port=int(3306),user='root',passwd='Ofhani3mukwevho@',db='data_science')"
   ]
  },
  {
   "cell_type": "code",
   "execution_count": 4,
   "id": "ecfb7f9d",
   "metadata": {},
   "outputs": [
    {
     "data": {
      "text/html": [
       "<div>\n",
       "<style scoped>\n",
       "    .dataframe tbody tr th:only-of-type {\n",
       "        vertical-align: middle;\n",
       "    }\n",
       "\n",
       "    .dataframe tbody tr th {\n",
       "        vertical-align: top;\n",
       "    }\n",
       "\n",
       "    .dataframe thead th {\n",
       "        text-align: right;\n",
       "    }\n",
       "</style>\n",
       "<table border=\"1\" class=\"dataframe\">\n",
       "  <thead>\n",
       "    <tr style=\"text-align: right;\">\n",
       "      <th></th>\n",
       "      <th>job_id</th>\n",
       "      <th>company</th>\n",
       "      <th>industry</th>\n",
       "      <th>closing_date</th>\n",
       "      <th>post_level</th>\n",
       "      <th>post_type</th>\n",
       "      <th>post_qualification</th>\n",
       "      <th>post_skills</th>\n",
       "      <th>post_description</th>\n",
       "      <th>post_min_experience</th>\n",
       "      <th>post_salary</th>\n",
       "      <th>work_environment</th>\n",
       "      <th>post_city</th>\n",
       "    </tr>\n",
       "  </thead>\n",
       "  <tbody>\n",
       "    <tr>\n",
       "      <th>0</th>\n",
       "      <td>1</td>\n",
       "      <td>DHL</td>\n",
       "      <td>Logistics</td>\n",
       "      <td>2022-06-01</td>\n",
       "      <td>Intermediate</td>\n",
       "      <td>Permanent</td>\n",
       "      <td>Bachelor Degree</td>\n",
       "      <td>Power BI and Azure</td>\n",
       "      <td>Gather, manipulate and analyze data from diffe...</td>\n",
       "      <td>3</td>\n",
       "      <td>25000</td>\n",
       "      <td>remote</td>\n",
       "      <td>Kempton Park</td>\n",
       "    </tr>\n",
       "  </tbody>\n",
       "</table>\n",
       "</div>"
      ],
      "text/plain": [
       "   job_id company   industry closing_date    post_level  post_type  \\\n",
       "0       1     DHL  Logistics   2022-06-01  Intermediate  Permanent   \n",
       "\n",
       "  post_qualification         post_skills  \\\n",
       "0    Bachelor Degree  Power BI and Azure   \n",
       "\n",
       "                                    post_description  post_min_experience  \\\n",
       "0  Gather, manipulate and analyze data from diffe...                    3   \n",
       "\n",
       "   post_salary work_environment     post_city  \n",
       "0        25000           remote  Kempton Park  "
      ]
     },
     "execution_count": 4,
     "metadata": {},
     "output_type": "execute_result"
    }
   ],
   "source": [
    "df_post = pd.read_sql_query('select * from job_posting ', conn)\n",
    "df_post.head()"
   ]
  },
  {
   "cell_type": "code",
   "execution_count": 5,
   "id": "d0206329",
   "metadata": {},
   "outputs": [
    {
     "data": {
      "text/html": [
       "<div>\n",
       "<style scoped>\n",
       "    .dataframe tbody tr th:only-of-type {\n",
       "        vertical-align: middle;\n",
       "    }\n",
       "\n",
       "    .dataframe tbody tr th {\n",
       "        vertical-align: top;\n",
       "    }\n",
       "\n",
       "    .dataframe thead th {\n",
       "        text-align: right;\n",
       "    }\n",
       "</style>\n",
       "<table border=\"1\" class=\"dataframe\">\n",
       "  <thead>\n",
       "    <tr style=\"text-align: right;\">\n",
       "      <th></th>\n",
       "      <th>applicant_id</th>\n",
       "      <th>first_name</th>\n",
       "      <th>surname</th>\n",
       "      <th>current job</th>\n",
       "      <th>company</th>\n",
       "      <th>current salary</th>\n",
       "      <th>qualification</th>\n",
       "      <th>graudation_date</th>\n",
       "      <th>skills</th>\n",
       "      <th>position_of_interest</th>\n",
       "    </tr>\n",
       "  </thead>\n",
       "  <tbody>\n",
       "    <tr>\n",
       "      <th>0</th>\n",
       "      <td>1</td>\n",
       "      <td>ofhani</td>\n",
       "      <td>mukwevho</td>\n",
       "      <td>student</td>\n",
       "      <td>explore data science academy</td>\n",
       "      <td>5000.0</td>\n",
       "      <td>data science</td>\n",
       "      <td>2022-06-01</td>\n",
       "      <td>SQL,Power Bi, AWS</td>\n",
       "      <td>Junior Business Analyst</td>\n",
       "    </tr>\n",
       "    <tr>\n",
       "      <th>1</th>\n",
       "      <td>2</td>\n",
       "      <td>Gudani</td>\n",
       "      <td>Mbedzi</td>\n",
       "      <td>None</td>\n",
       "      <td>None</td>\n",
       "      <td>NaN</td>\n",
       "      <td>None</td>\n",
       "      <td>None</td>\n",
       "      <td>None</td>\n",
       "      <td>None</td>\n",
       "    </tr>\n",
       "    <tr>\n",
       "      <th>2</th>\n",
       "      <td>3</td>\n",
       "      <td>Gudani</td>\n",
       "      <td>Mbedzi</td>\n",
       "      <td>None</td>\n",
       "      <td>None</td>\n",
       "      <td>NaN</td>\n",
       "      <td>None</td>\n",
       "      <td>None</td>\n",
       "      <td>None</td>\n",
       "      <td>None</td>\n",
       "    </tr>\n",
       "    <tr>\n",
       "      <th>3</th>\n",
       "      <td>4</td>\n",
       "      <td>gudani</td>\n",
       "      <td>bedzi</td>\n",
       "      <td>None</td>\n",
       "      <td>None</td>\n",
       "      <td>NaN</td>\n",
       "      <td>None</td>\n",
       "      <td>None</td>\n",
       "      <td>None</td>\n",
       "      <td>None</td>\n",
       "    </tr>\n",
       "  </tbody>\n",
       "</table>\n",
       "</div>"
      ],
      "text/plain": [
       "   applicant_id first_name   surname current job  \\\n",
       "0             1     ofhani  mukwevho     student   \n",
       "1             2    Gudani     Mbedzi        None   \n",
       "2             3    Gudani     Mbedzi        None   \n",
       "3             4    gudani      bedzi        None   \n",
       "\n",
       "                        company  current salary qualification graudation_date  \\\n",
       "0  explore data science academy          5000.0  data science      2022-06-01   \n",
       "1                          None             NaN          None            None   \n",
       "2                          None             NaN          None            None   \n",
       "3                          None             NaN          None            None   \n",
       "\n",
       "              skills     position_of_interest  \n",
       "0  SQL,Power Bi, AWS  Junior Business Analyst  \n",
       "1               None                     None  \n",
       "2               None                     None  \n",
       "3               None                     None  "
      ]
     },
     "execution_count": 5,
     "metadata": {},
     "output_type": "execute_result"
    }
   ],
   "source": [
    "df_user = pd.read_sql_query ('select * from applicant_table', conn)\n",
    "df_user.head()"
   ]
  },
  {
   "cell_type": "code",
   "execution_count": 6,
   "id": "0c7e3957",
   "metadata": {},
   "outputs": [
    {
     "name": "stdout",
     "output_type": "stream",
     "text": [
      "1 record inserted.\n"
     ]
    }
   ],
   "source": [
    "import mysql.connector \n",
    "\n",
    "mydb = mysql.connector.connect(\n",
    "  host=\"localhost\",\n",
    "  user=\"root\",\n",
    "  password=\"Ofhani3mukwevho@\",\n",
    "  database=\"data_science\"\n",
    ")\n",
    "\n",
    "mycursor = mydb.cursor()\n",
    "\n",
    "sql =\"INSERT INTO applicant_table (first_name, surname) VALUES (%s, %s)\"\n",
    "\n",
    "val =(\"gudani \", \"bedzi\")\n",
    "\n",
    "mycursor.execute(sql, val)\n",
    "\n",
    "mydb.commit()\n",
    "\n",
    "print(mycursor.rowcount, \"record inserted.\")"
   ]
  },
  {
   "cell_type": "code",
   "execution_count": 7,
   "id": "9154358d",
   "metadata": {},
   "outputs": [
    {
     "data": {
      "text/html": [
       "<div>\n",
       "<style scoped>\n",
       "    .dataframe tbody tr th:only-of-type {\n",
       "        vertical-align: middle;\n",
       "    }\n",
       "\n",
       "    .dataframe tbody tr th {\n",
       "        vertical-align: top;\n",
       "    }\n",
       "\n",
       "    .dataframe thead th {\n",
       "        text-align: right;\n",
       "    }\n",
       "</style>\n",
       "<table border=\"1\" class=\"dataframe\">\n",
       "  <thead>\n",
       "    <tr style=\"text-align: right;\">\n",
       "      <th></th>\n",
       "      <th>applicant_id</th>\n",
       "      <th>first_name</th>\n",
       "      <th>surname</th>\n",
       "      <th>current job</th>\n",
       "      <th>company</th>\n",
       "      <th>current salary</th>\n",
       "      <th>qualification</th>\n",
       "      <th>graudation_date</th>\n",
       "      <th>skills</th>\n",
       "      <th>position_of_interest</th>\n",
       "    </tr>\n",
       "  </thead>\n",
       "  <tbody>\n",
       "    <tr>\n",
       "      <th>0</th>\n",
       "      <td>1</td>\n",
       "      <td>ofhani</td>\n",
       "      <td>mukwevho</td>\n",
       "      <td>student</td>\n",
       "      <td>explore data science academy</td>\n",
       "      <td>5000.0</td>\n",
       "      <td>data science</td>\n",
       "      <td>2022-06-01</td>\n",
       "      <td>SQL,Power Bi, AWS</td>\n",
       "      <td>Junior Business Analyst</td>\n",
       "    </tr>\n",
       "    <tr>\n",
       "      <th>1</th>\n",
       "      <td>2</td>\n",
       "      <td>Gudani</td>\n",
       "      <td>Mbedzi</td>\n",
       "      <td>None</td>\n",
       "      <td>None</td>\n",
       "      <td>NaN</td>\n",
       "      <td>None</td>\n",
       "      <td>None</td>\n",
       "      <td>None</td>\n",
       "      <td>None</td>\n",
       "    </tr>\n",
       "    <tr>\n",
       "      <th>2</th>\n",
       "      <td>3</td>\n",
       "      <td>Gudani</td>\n",
       "      <td>Mbedzi</td>\n",
       "      <td>None</td>\n",
       "      <td>None</td>\n",
       "      <td>NaN</td>\n",
       "      <td>None</td>\n",
       "      <td>None</td>\n",
       "      <td>None</td>\n",
       "      <td>None</td>\n",
       "    </tr>\n",
       "    <tr>\n",
       "      <th>3</th>\n",
       "      <td>4</td>\n",
       "      <td>gudani</td>\n",
       "      <td>bedzi</td>\n",
       "      <td>None</td>\n",
       "      <td>None</td>\n",
       "      <td>NaN</td>\n",
       "      <td>None</td>\n",
       "      <td>None</td>\n",
       "      <td>None</td>\n",
       "      <td>None</td>\n",
       "    </tr>\n",
       "  </tbody>\n",
       "</table>\n",
       "</div>"
      ],
      "text/plain": [
       "   applicant_id first_name   surname current job  \\\n",
       "0             1     ofhani  mukwevho     student   \n",
       "1             2    Gudani     Mbedzi        None   \n",
       "2             3    Gudani     Mbedzi        None   \n",
       "3             4    gudani      bedzi        None   \n",
       "\n",
       "                        company  current salary qualification graudation_date  \\\n",
       "0  explore data science academy          5000.0  data science      2022-06-01   \n",
       "1                          None             NaN          None            None   \n",
       "2                          None             NaN          None            None   \n",
       "3                          None             NaN          None            None   \n",
       "\n",
       "              skills     position_of_interest  \n",
       "0  SQL,Power Bi, AWS  Junior Business Analyst  \n",
       "1               None                     None  \n",
       "2               None                     None  \n",
       "3               None                     None  "
      ]
     },
     "execution_count": 7,
     "metadata": {},
     "output_type": "execute_result"
    }
   ],
   "source": [
    "df_user.head()"
   ]
  },
  {
   "cell_type": "code",
   "execution_count": 1,
   "id": "9a2b9b46",
   "metadata": {},
   "outputs": [],
   "source": [
    "%load_ext sql"
   ]
  },
  {
   "cell_type": "code",
   "execution_count": 2,
   "id": "bc5a32df",
   "metadata": {},
   "outputs": [],
   "source": [
    "%%sql \n",
    "sqlite:///data_science.db"
   ]
  },
  {
   "cell_type": "code",
   "execution_count": 4,
   "id": "06063c2b",
   "metadata": {},
   "outputs": [
    {
     "name": "stdout",
     "output_type": "stream",
     "text": [
      " * sqlite:///data_science.db\n",
      "(sqlite3.OperationalError) no such table: job_posting\n",
      "[SQL: SELECT company from job_posting]\n",
      "(Background on this error at: http://sqlalche.me/e/14/e3q8)\n"
     ]
    }
   ],
   "source": [
    "%%sql\n",
    "\n",
    "SELECT company from job_posting "
   ]
  },
  {
   "cell_type": "code",
   "execution_count": null,
   "id": "14471d87",
   "metadata": {},
   "outputs": [],
   "source": []
  }
 ],
 "metadata": {
  "kernelspec": {
   "display_name": "Python 3",
   "language": "python",
   "name": "python3"
  },
  "language_info": {
   "codemirror_mode": {
    "name": "ipython",
    "version": 3
   },
   "file_extension": ".py",
   "mimetype": "text/x-python",
   "name": "python",
   "nbconvert_exporter": "python",
   "pygments_lexer": "ipython3",
   "version": "3.8.8"
  }
 },
 "nbformat": 4,
 "nbformat_minor": 5
}
